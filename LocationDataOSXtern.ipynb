{
 "cells": [
  {
   "cell_type": "code",
   "execution_count": null,
   "metadata": {},
   "outputs": [],
   "source": [
    "import pandas as pd\n",
    "import numpy as np\n",
    "import matplotlib.pyplot as plt\n",
    "import math"
   ]
  },
  {
   "cell_type": "code",
   "execution_count": null,
   "metadata": {},
   "outputs": [],
   "source": [
    "# I was able to load the data, and calculate the average, maximum, and minimum distances from each person.\n",
    "# Created a three new series representing all of the new information.\n",
    "# Will definitely be able to do more with the data given more time as I continue to study Python libraries."
   ]
  },
  {
   "cell_type": "code",
   "execution_count": null,
   "metadata": {},
   "outputs": [],
   "source": [
    "# loading the data and displaying info\n",
    "df = pd.read_table('CheckInData/checkin_dataset.csv', sep = ',')\n",
    "df.info()"
   ]
  },
  {
   "cell_type": "code",
   "execution_count": null,
   "metadata": {
    "scrolled": false
   },
   "outputs": [],
   "source": [
    "df['xcoordinate']"
   ]
  },
  {
   "cell_type": "code",
   "execution_count": null,
   "metadata": {},
   "outputs": [],
   "source": [
    "# count_x_vals = df['xcoordinate'].values\n",
    "# diffs_x = count_x_vals[:-1] - count_x_vals[1:]\n",
    "# diffs_x_squared = diffs_x ** 2\n",
    "# diffs_x"
   ]
  },
  {
   "cell_type": "code",
   "execution_count": null,
   "metadata": {},
   "outputs": [],
   "source": [
    "# count_y_vals = df['ycoordinate'].values\n",
    "# diffs_y = count_y_vals[:-1] - count_y_vals[1:]\n",
    "# diffs_y_squared = diffs_y ** 2\n",
    "# diffs_y_squared"
   ]
  },
  {
   "cell_type": "code",
   "execution_count": null,
   "metadata": {},
   "outputs": [],
   "source": [
    "# distance_squared = diffs_x_squared + diffs_y_squared\n",
    "# distance = np.sqrt(distance_squared)\n",
    "# distance"
   ]
  },
  {
   "cell_type": "code",
   "execution_count": null,
   "metadata": {},
   "outputs": [],
   "source": [
    "# slicing the timestamp to get only the date attribute \n",
    "df['eventDate'] = df.timestamp.str.slice(0,10)\n",
    "# organizing by the date\n",
    "events = df.groupby('eventDate')\n",
    "events.groups\n",
    "# type(events)"
   ]
  },
  {
   "cell_type": "code",
   "execution_count": null,
   "metadata": {},
   "outputs": [],
   "source": [
    "#initializing three new Series\n",
    "average_dist = pd.Series() \n",
    "max_dist = pd.Series()\n",
    "min_dist = pd.Series()"
   ]
  },
  {
   "cell_type": "code",
   "execution_count": null,
   "metadata": {},
   "outputs": [],
   "source": [
    "\n",
    "for name, group in events:\n",
    "    group_x_vals = group['xcoordinate'].values\n",
    "    diffx = group_x_vals[:-1] - group_x_vals[1:] \n",
    "    # difference between each pair of x-values\n",
    "    diffx_squared = diffx ** 2\n",
    "    group_y_vals = group['ycoordinate'].values\n",
    "    diffy = group_y_vals[:-1] = group_y_vals[1:]\n",
    "    # difference of y values\n",
    "    diffy_squared = diffy ** 2 \n",
    "    squared_sum = diffx_squared + diffy_squared\n",
    "    distance_points = np.sqrt(squared_sum)\n",
    "    # distance formula\n",
    "\n",
    "    avg_distance = distance_points.mean()\n",
    "    max_distance = distance_points.max()\n",
    "    min_distance = distance_points.min()\n",
    "    average_dist = pd.Series(np.concatenate((average_dist.values, [avg_distance])))\n",
    "    max_dist = pd.Series(np.concatenate((max_dist.values, [max_distance])))\n",
    "    min_dist = pd.Series(np.concatenate((min_dist.values, [min_distance])))\n",
    "    # adding each new value to respective Series\n",
    "            \n",
    "                    \n",
    "    print(name, \"average: \", avg_distance)\n",
    "    print(name, \"max: \", max_distance)\n",
    "    print(name, \"min: \", min_distance)\n",
    "    # displaying values from each day\n"
   ]
  },
  {
   "cell_type": "code",
   "execution_count": null,
   "metadata": {
    "scrolled": true
   },
   "outputs": [],
   "source": [
    "# creating three new Series to add to dataframe\n",
    "average_dist\n",
    "max_dist\n",
    "min_dist"
   ]
  }
 ],
 "metadata": {
  "kernelspec": {
   "display_name": "Python 3",
   "language": "python",
   "name": "python3"
  },
  "language_info": {
   "codemirror_mode": {
    "name": "ipython",
    "version": 3
   },
   "file_extension": ".py",
   "mimetype": "text/x-python",
   "name": "python",
   "nbconvert_exporter": "python",
   "pygments_lexer": "ipython3",
   "version": "3.6.2"
  }
 },
 "nbformat": 4,
 "nbformat_minor": 2
}
